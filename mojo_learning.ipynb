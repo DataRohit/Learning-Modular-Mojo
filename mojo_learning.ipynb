{
 "cells": [
  {
   "cell_type": "markdown",
   "metadata": {},
   "source": [
    "# **Modular Mojo Learning**"
   ]
  },
  {
   "cell_type": "markdown",
   "metadata": {},
   "source": [
    "### **Printing**"
   ]
  },
  {
   "cell_type": "code",
   "execution_count": 1,
   "metadata": {},
   "outputs": [
    {
     "name": "stdout",
     "output_type": "stream",
     "text": [
      "Hello World!\n"
     ]
    }
   ],
   "source": [
    "# Simple Print\n",
    "print(\"Hello World!\")"
   ]
  },
  {
   "cell_type": "code",
   "execution_count": 2,
   "metadata": {},
   "outputs": [
    {
     "name": "stdout",
     "output_type": "stream",
     "text": [
      "Hello World!\n"
     ]
    }
   ],
   "source": [
    "# Initialize a variable\n",
    "let hello = \"Hello World!\"\n",
    "\n",
    "# Print the variable\n",
    "print(hello)"
   ]
  },
  {
   "cell_type": "markdown",
   "metadata": {},
   "source": [
    "### **Variables**"
   ]
  },
  {
   "cell_type": "markdown",
   "metadata": {},
   "source": [
    "**Variables declared using `let` keyword are immutable**"
   ]
  },
  {
   "cell_type": "code",
   "execution_count": 3,
   "metadata": {},
   "outputs": [
    {
     "name": "stdout",
     "output_type": "stream",
     "text": [
      "5\n"
     ]
    }
   ],
   "source": [
    "# Initialize a variable using let keyword\n",
    "let x = 5\n",
    "\n",
    "# Print the variable\n",
    "print(x)"
   ]
  },
  {
   "cell_type": "code",
   "execution_count": 4,
   "metadata": {},
   "outputs": [
    {
     "name": "stderr",
     "output_type": "stream",
     "text": [
      "error: \u001b[0;1;31m\u001b[1mExpression [4]:8:1: \u001b[0m\u001b[1mexpression must be mutable in assignment\n",
      "\u001b[0mx = 10\n",
      "\u001b[0;1;32m^\n",
      "\u001b[0m\u001b[0m\n",
      "expression failed to parse (no further compiler diagnostics)"
     ]
    }
   ],
   "source": [
    "# Initialize a variable using let keyword\n",
    "let x = 5\n",
    "\n",
    "# Print the variable\n",
    "print(x)\n",
    "\n",
    "# Try updating the value of x\n",
    "x = 10\n",
    "\n",
    "# Print the variable\n",
    "print(x)"
   ]
  },
  {
   "cell_type": "markdown",
   "metadata": {},
   "source": [
    "**Variable declared by `var` keyword are mutable and can be updated**"
   ]
  },
  {
   "cell_type": "code",
   "execution_count": 5,
   "metadata": {},
   "outputs": [
    {
     "name": "stdout",
     "output_type": "stream",
     "text": [
      "5\n"
     ]
    }
   ],
   "source": [
    "# Initialize a variable using var keyword\n",
    "var x = 5\n",
    "\n",
    "# Print the variable\n",
    "print(x)"
   ]
  },
  {
   "cell_type": "code",
   "execution_count": 6,
   "metadata": {},
   "outputs": [
    {
     "name": "stdout",
     "output_type": "stream",
     "text": [
      "5\n",
      "10\n"
     ]
    }
   ],
   "source": [
    "# Initialize a variable using var keyword\n",
    "var x = 5\n",
    "\n",
    "# Print the variable\n",
    "print(x)\n",
    "\n",
    "# Try updating the value of x\n",
    "x = 10\n",
    "\n",
    "# Print the variable\n",
    "print(x)"
   ]
  },
  {
   "cell_type": "markdown",
   "metadata": {},
   "source": [
    "### **DataTypes**"
   ]
  },
  {
   "cell_type": "markdown",
   "metadata": {},
   "source": [
    "#### **String**\n",
    "**Keywords ➜ `String`**"
   ]
  },
  {
   "cell_type": "code",
   "execution_count": 7,
   "metadata": {},
   "outputs": [
    {
     "name": "stdout",
     "output_type": "stream",
     "text": [
      "This is a String!\n",
      "17\n"
     ]
    }
   ],
   "source": [
    "# Declare a string variable by direct assignment\n",
    "let str_var = \"This is a String!\"\n",
    "\n",
    "# Print the variable\n",
    "print(str_var)\n",
    "\n",
    "# Print the length of the string\n",
    "print(len(str_var))"
   ]
  },
  {
   "cell_type": "code",
   "execution_count": 8,
   "metadata": {},
   "outputs": [
    {
     "name": "stdout",
     "output_type": "stream",
     "text": [
      "This is a String!\n",
      "17\n"
     ]
    }
   ],
   "source": [
    "# Declare a string variable by specifying data type\n",
    "let str_var: String = \"This is a String!\"\n",
    "\n",
    "# Print the variable\n",
    "print(str_var)\n",
    "\n",
    "# Print the length of the string\n",
    "print(len(str_var))"
   ]
  },
  {
   "cell_type": "code",
   "execution_count": 9,
   "metadata": {},
   "outputs": [
    {
     "name": "stdout",
     "output_type": "stream",
     "text": [
      "12345\n",
      "5\n"
     ]
    }
   ],
   "source": [
    "# Declare a string variable and passing integer values\n",
    "let str_var: String = 12345\n",
    "\n",
    "# Print the variable\n",
    "print(str_var)\n",
    "\n",
    "# Print the length of the string\n",
    "print(len(str_var))"
   ]
  },
  {
   "cell_type": "markdown",
   "metadata": {},
   "source": [
    "#### **Integer**\n",
    "\n",
    "**Keywords ➜ `Int` `Int8` `Int16` `Int32` `Int64`**"
   ]
  },
  {
   "cell_type": "code",
   "execution_count": 10,
   "metadata": {},
   "outputs": [
    {
     "name": "stdout",
     "output_type": "stream",
     "text": [
      "12345\n"
     ]
    }
   ],
   "source": [
    "# Direct initialization of integer value to a variable -> Defaults to Int64\n",
    "let int_var = 12345\n",
    "\n",
    "# Print the variable\n",
    "print(int_var)"
   ]
  },
  {
   "cell_type": "code",
   "execution_count": 11,
   "metadata": {},
   "outputs": [
    {
     "name": "stdout",
     "output_type": "stream",
     "text": [
      "127\n",
      "32767\n",
      "2147483647\n",
      "9223372036854775807\n"
     ]
    }
   ],
   "source": [
    "# Initilization of integer value to a variable by specifying data type\n",
    "let int8_var: Int8 = 127\n",
    "let int16_var: Int16 = 32_767\n",
    "let int32_var: Int32 = 2_147_483_647\n",
    "let int64_var: Int64 = 9_223_372_036_854_775_807\n",
    "\n",
    "# Print the variable\n",
    "print(int8_var)\n",
    "print(int16_var)\n",
    "print(int32_var)\n",
    "print(int64_var)"
   ]
  },
  {
   "cell_type": "markdown",
   "metadata": {},
   "source": [
    "#### **UInt**\n",
    "**Keywords ➜ `UInt8` `UInt16` `UInt32` `UInt64`**"
   ]
  },
  {
   "cell_type": "code",
   "execution_count": 12,
   "metadata": {},
   "outputs": [
    {
     "name": "stdout",
     "output_type": "stream",
     "text": [
      "255\n",
      "65535\n",
      "4294967295\n",
      "18446744073709551615\n"
     ]
    }
   ],
   "source": [
    "# Initilization of unsigned integer value to a variable by specifying data type\n",
    "let uint8_var: UInt8 = 255\n",
    "let uint16_var: UInt16 = 65_535\n",
    "let uint32_var: UInt32 = 4_294_967_295\n",
    "let uint64_var: UInt64 = 18_446_744_073_709_551_615\n",
    "\n",
    "# Print the variable\n",
    "print(uint8_var)\n",
    "print(uint16_var)\n",
    "print(uint32_var)\n",
    "print(uint64_var)"
   ]
  },
  {
   "cell_type": "markdown",
   "metadata": {},
   "source": [
    "#### **Float**\n",
    "**Keywords ➜ `Float` `Float16` `Float32` `Float64`**"
   ]
  },
  {
   "cell_type": "code",
   "execution_count": 13,
   "metadata": {},
   "outputs": [
    {
     "name": "stdout",
     "output_type": "stream",
     "text": [
      "12345.678900000001\n"
     ]
    }
   ],
   "source": [
    "# Direct initialization of float value to a variable -> Defaults to Int64\n",
    "let float_var = 12345.6789\n",
    "\n",
    "# Print the variable\n",
    "print(float_var)"
   ]
  },
  {
   "cell_type": "code",
   "execution_count": 14,
   "metadata": {},
   "outputs": [
    {
     "name": "stdout",
     "output_type": "stream",
     "text": [
      "12344.0\n",
      "12345.6787109375\n",
      "12345.678900000001\n"
     ]
    }
   ],
   "source": [
    "# Initilization of float value to a variable by specifying data type\n",
    "let float16_var: Float16 = 12345.6789\n",
    "let float32_var: Float32 = 12345.6789\n",
    "let float64_var: Float64 = 12345.6789\n",
    "\n",
    "# Print the variable\n",
    "print(float16_var)\n",
    "print(float32_var)\n",
    "print(float64_var)"
   ]
  },
  {
   "cell_type": "markdown",
   "metadata": {},
   "source": [
    "#### **Bool**\n",
    "**Keywords ➜ `Bool`**"
   ]
  },
  {
   "cell_type": "code",
   "execution_count": 15,
   "metadata": {},
   "outputs": [
    {
     "name": "stdout",
     "output_type": "stream",
     "text": [
      "True\n",
      "False\n"
     ]
    }
   ],
   "source": [
    "# Direct initialization of bool value to a variable\n",
    "let bool_true = True\n",
    "let bool_false = False\n",
    "\n",
    "# Print the variable\n",
    "print(bool_true)\n",
    "print(bool_false)"
   ]
  },
  {
   "cell_type": "code",
   "execution_count": 16,
   "metadata": {},
   "outputs": [
    {
     "name": "stdout",
     "output_type": "stream",
     "text": [
      "True\n",
      "False\n"
     ]
    }
   ],
   "source": [
    "# Initilization of bool value to a variable by specifying data type\n",
    "let bool_true: Bool = True\n",
    "let bool_false: Bool = False\n",
    "\n",
    "# Print the variable\n",
    "print(bool_true)\n",
    "print(bool_false)"
   ]
  },
  {
   "cell_type": "markdown",
   "metadata": {},
   "source": [
    "### **User Input using Python**"
   ]
  },
  {
   "cell_type": "code",
   "execution_count": 17,
   "metadata": {},
   "outputs": [],
   "source": [
    "# * NOTE: The code below does not work in VSCode Jupyter Notebook\n",
    "# * NOTE: Copy the code below and paste it in a new .mojo file and run it\n",
    "\n",
    "\n",
    "# Import python\n",
    "from python import Python\n",
    "\n",
    "\n",
    "# Main function\n",
    "fn main() raises:\n",
    "    # Initialize a python object\n",
    "    let py = Python.import_module(\"builtins\")\n",
    "\n",
    "    # Take user input\n",
    "    let input = py.input(\"What is you favorite color? ➜ \")\n",
    "\n",
    "    # Print the input\n",
    "    print(\"Your favorite color is \", input)"
   ]
  },
  {
   "cell_type": "markdown",
   "metadata": {},
   "source": [
    "### **Control Statements**\n",
    "**Keywords ➜ `if` `else` `elif`**"
   ]
  },
  {
   "cell_type": "code",
   "execution_count": 18,
   "metadata": {},
   "outputs": [
    {
     "name": "stdout",
     "output_type": "stream",
     "text": [
      "5 5\n",
      "x and y are equal\n"
     ]
    }
   ],
   "source": [
    "# Initialize variables\n",
    "let x = 5\n",
    "let y = 5\n",
    "\n",
    "# Print the variables\n",
    "print(x, y)\n",
    "\n",
    "# Compare the variables\n",
    "if x == y:\n",
    "    print(\"x and y are equal\")\n",
    "elif x < y:\n",
    "    print(\"x is less than y\")\n",
    "else:\n",
    "    print(\"x is greater than y\")"
   ]
  },
  {
   "cell_type": "code",
   "execution_count": 19,
   "metadata": {},
   "outputs": [
    {
     "name": "stdout",
     "output_type": "stream",
     "text": [
      "2 5\n",
      "x is less than y\n"
     ]
    }
   ],
   "source": [
    "# Initialize variables\n",
    "let x = 2\n",
    "let y = 5\n",
    "\n",
    "# Print the variables\n",
    "print(x, y)\n",
    "\n",
    "# Compare the variables\n",
    "if x == y:\n",
    "    print(\"x and y are equal\")\n",
    "elif x < y:\n",
    "    print(\"x is less than y\")\n",
    "else:\n",
    "    print(\"x is greater than y\")"
   ]
  },
  {
   "cell_type": "code",
   "execution_count": 20,
   "metadata": {},
   "outputs": [
    {
     "name": "stdout",
     "output_type": "stream",
     "text": [
      "8 5\n",
      "x is greater than y\n"
     ]
    }
   ],
   "source": [
    "# Initialize variables\n",
    "let x = 8\n",
    "let y = 5\n",
    "\n",
    "# Print the variables\n",
    "print(x, y)\n",
    "\n",
    "# Compare the variables\n",
    "if x == y:\n",
    "    print(\"x and y are equal\")\n",
    "elif x < y:\n",
    "    print(\"x is less than y\")\n",
    "else:\n",
    "    print(\"x is greater than y\")"
   ]
  },
  {
   "cell_type": "markdown",
   "metadata": {},
   "source": [
    "### **Loops**\n",
    "**Keywords ➜ `for` `while`**"
   ]
  },
  {
   "cell_type": "markdown",
   "metadata": {},
   "source": [
    "#### **For Loop**"
   ]
  },
  {
   "cell_type": "code",
   "execution_count": 21,
   "metadata": {},
   "outputs": [
    {
     "name": "stdout",
     "output_type": "stream",
     "text": [
      "0\n",
      "1\n",
      "2\n",
      "3\n",
      "4\n",
      "5\n",
      "6\n",
      "7\n",
      "8\n",
      "9\n"
     ]
    }
   ],
   "source": [
    "# For loop with range\n",
    "for i in range(10):\n",
    "    print(i)"
   ]
  },
  {
   "cell_type": "code",
   "execution_count": 22,
   "metadata": {},
   "outputs": [
    {
     "name": "stdout",
     "output_type": "stream",
     "text": [
      "0\n",
      "2\n",
      "4\n",
      "6\n",
      "8\n"
     ]
    }
   ],
   "source": [
    "# For loop with range and step\n",
    "for i in range(0, 10, 2):\n",
    "    print(i)"
   ]
  },
  {
   "cell_type": "markdown",
   "metadata": {},
   "source": [
    "#### **While Loop**"
   ]
  },
  {
   "cell_type": "code",
   "execution_count": 23,
   "metadata": {},
   "outputs": [
    {
     "name": "stdout",
     "output_type": "stream",
     "text": [
      "0\n",
      "1\n",
      "2\n",
      "3\n",
      "4\n",
      "5\n",
      "6\n",
      "7\n",
      "8\n",
      "9\n"
     ]
    }
   ],
   "source": [
    "# Iterator for loop\n",
    "var i: Int8 = 0\n",
    "\n",
    "# While loop\n",
    "while i < 10:\n",
    "    # Print the iterator\n",
    "    print(i)\n",
    "\n",
    "    # Update the iterator\n",
    "    i += 1"
   ]
  },
  {
   "cell_type": "code",
   "execution_count": 24,
   "metadata": {},
   "outputs": [
    {
     "name": "stdout",
     "output_type": "stream",
     "text": [
      "0\n",
      "2\n",
      "4\n",
      "6\n",
      "8\n"
     ]
    }
   ],
   "source": [
    "# Iterator for loop\n",
    "var i: Int8 = 0\n",
    "\n",
    "# While loop\n",
    "while i < 10:\n",
    "    # Print the iterator\n",
    "    print(i)\n",
    "\n",
    "    # Update the iterator by 2\n",
    "    i += 2"
   ]
  },
  {
   "cell_type": "markdown",
   "metadata": {},
   "source": [
    "### **Loop Control**\n",
    "**Keywords ➜ `break` `continue`**"
   ]
  },
  {
   "cell_type": "markdown",
   "metadata": {},
   "source": [
    "#### **For Loop**"
   ]
  },
  {
   "cell_type": "code",
   "execution_count": 25,
   "metadata": {},
   "outputs": [
    {
     "name": "stdout",
     "output_type": "stream",
     "text": [
      "0\n",
      "1\n",
      "2\n",
      "3\n",
      "4\n"
     ]
    }
   ],
   "source": [
    "# Break with for loop\n",
    "for i in range(10):\n",
    "    # Break the loop if iterator is 5\n",
    "    if i == 5:\n",
    "        break\n",
    "\n",
    "    # Print the iterator\n",
    "    print(i)"
   ]
  },
  {
   "cell_type": "code",
   "execution_count": 26,
   "metadata": {},
   "outputs": [
    {
     "name": "stdout",
     "output_type": "stream",
     "text": [
      "0\n",
      "1\n",
      "2\n",
      "3\n",
      "4\n",
      "6\n",
      "7\n",
      "8\n",
      "9\n"
     ]
    }
   ],
   "source": [
    "# Continue with for loop\n",
    "for i in range(10):\n",
    "    # Break the loop if iterator is 5\n",
    "    if i == 5:\n",
    "        continue\n",
    "\n",
    "    # Print the iterator\n",
    "    print(i)"
   ]
  },
  {
   "cell_type": "markdown",
   "metadata": {},
   "source": [
    "#### **While Loop**"
   ]
  },
  {
   "cell_type": "code",
   "execution_count": 27,
   "metadata": {},
   "outputs": [
    {
     "name": "stdout",
     "output_type": "stream",
     "text": [
      "0\n",
      "1\n",
      "2\n",
      "3\n",
      "4\n"
     ]
    }
   ],
   "source": [
    "# Initialize iterator for loop\n",
    "var i: Int8 = 0\n",
    "\n",
    "# Break with while loop\n",
    "while i < 10:\n",
    "    # Break the loop if iterator is 5\n",
    "    if i == 5:\n",
    "        break\n",
    "\n",
    "    # Print the iterator\n",
    "    print(i)\n",
    "\n",
    "    # Update the iterator\n",
    "    i += 1"
   ]
  },
  {
   "cell_type": "code",
   "execution_count": 28,
   "metadata": {},
   "outputs": [
    {
     "name": "stdout",
     "output_type": "stream",
     "text": [
      "0\n",
      "1\n",
      "2\n",
      "3\n",
      "4\n",
      "6\n",
      "7\n",
      "8\n",
      "9\n"
     ]
    }
   ],
   "source": [
    "# Initialize iterator for loop\n",
    "var i: Int8 = 0\n",
    "\n",
    "# Continue with while loop\n",
    "while i < 10:\n",
    "    # Continue the loop if iterator is 5\n",
    "    if i == 5:\n",
    "        # Update the iterator\n",
    "        i += 1\n",
    "\n",
    "        # Continue the loop\n",
    "        continue\n",
    "\n",
    "    # Print the iterator\n",
    "    print(i)\n",
    "\n",
    "    # Update the iterator\n",
    "    i += 1"
   ]
  },
  {
   "cell_type": "markdown",
   "metadata": {},
   "source": [
    "### **PythonObject**"
   ]
  },
  {
   "cell_type": "markdown",
   "metadata": {},
   "source": [
    "#### **Lists**"
   ]
  },
  {
   "cell_type": "code",
   "execution_count": 29,
   "metadata": {},
   "outputs": [],
   "source": [
    "# Imports\n",
    "from python import Python\n",
    "\n",
    "# Initialize a python object and import builtins module\n",
    "let py = Python.import_module(\"builtins\")"
   ]
  },
  {
   "cell_type": "code",
   "execution_count": 30,
   "metadata": {},
   "outputs": [
    {
     "name": "stdout",
     "output_type": "stream",
     "text": [
      "['a', 'b', 'c', 'd', 'e']\n"
     ]
    }
   ],
   "source": [
    "\n",
    "# Import PythonObject\n",
    "from python import PythonObject\n",
    "\n",
    "# Initialize a python list\n",
    "let py_list_str: PythonObject = [\"a\", \"b\", \"c\", \"d\", \"e\"]\n",
    "\n",
    "# Print the list\n",
    "print(py_list_str)"
   ]
  },
  {
   "cell_type": "code",
   "execution_count": 31,
   "metadata": {},
   "outputs": [
    {
     "name": "stdout",
     "output_type": "stream",
     "text": [
      "[1, 2, 3, 4, 5]\n"
     ]
    }
   ],
   "source": [
    "# Initialize a python list\n",
    "let py_list_int: PythonObject = [1, 2, 3, 4, 5]\n",
    "\n",
    "# Print the list\n",
    "print(py_list_int)"
   ]
  },
  {
   "cell_type": "code",
   "execution_count": 32,
   "metadata": {},
   "outputs": [
    {
     "name": "stdout",
     "output_type": "stream",
     "text": [
      "[1, 'b', 3, 'd', 5]\n"
     ]
    }
   ],
   "source": [
    "# Initialize a python list\n",
    "let py_list_mix: PythonObject = [1, \"b\", 3, \"d\", 5]\n",
    "\n",
    "# Print the list\n",
    "print(py_list_mix)"
   ]
  },
  {
   "cell_type": "markdown",
   "metadata": {},
   "source": [
    "#### **Tuples**"
   ]
  },
  {
   "cell_type": "code",
   "execution_count": 33,
   "metadata": {},
   "outputs": [
    {
     "name": "stdout",
     "output_type": "stream",
     "text": [
      "('a', 'b', 'c', 'd', 'e')\n"
     ]
    }
   ],
   "source": [
    "# Initialize a python tuple\n",
    "let py_tuple_str: PythonObject = (\"a\", \"b\", \"c\", \"d\", \"e\")\n",
    "\n",
    "# Print the list\n",
    "print(py_tuple_str)"
   ]
  },
  {
   "cell_type": "code",
   "execution_count": 34,
   "metadata": {},
   "outputs": [
    {
     "name": "stdout",
     "output_type": "stream",
     "text": [
      "[1, 2, 3, 4, 5]\n"
     ]
    }
   ],
   "source": [
    "# Initialize a python tuple\n",
    "let py_tuple_int: PythonObject = [1, 2, 3, 4, 5]\n",
    "\n",
    "# Print the tuple\n",
    "print(py_tuple_int)"
   ]
  },
  {
   "cell_type": "code",
   "execution_count": 35,
   "metadata": {},
   "outputs": [
    {
     "name": "stdout",
     "output_type": "stream",
     "text": [
      "[1, 'b', 3, 'd', 5]\n"
     ]
    }
   ],
   "source": [
    "# Initialize a python tuple\n",
    "let py_tuple_mix: PythonObject = [1, \"b\", 3, \"d\", 5]\n",
    "\n",
    "# Print the tuple\n",
    "print(py_tuple_mix)"
   ]
  },
  {
   "cell_type": "markdown",
   "metadata": {},
   "source": [
    "#### **Traverse Lists**"
   ]
  },
  {
   "cell_type": "code",
   "execution_count": 36,
   "metadata": {},
   "outputs": [
    {
     "name": "stdout",
     "output_type": "stream",
     "text": [
      "a\n",
      "b\n",
      "c\n",
      "d\n",
      "e\n"
     ]
    }
   ],
   "source": [
    "# Initialize a python list\n",
    "let py_list_str: PythonObject = [\"a\", \"b\", \"c\", \"d\", \"e\"]\n",
    "\n",
    "# Use for loop\n",
    "for i in py_list_str:\n",
    "    # Print the iterator\n",
    "    print(i)"
   ]
  },
  {
   "cell_type": "code",
   "execution_count": 37,
   "metadata": {},
   "outputs": [
    {
     "name": "stdout",
     "output_type": "stream",
     "text": [
      "a\n",
      "b\n",
      "c\n",
      "d\n",
      "e\n"
     ]
    }
   ],
   "source": [
    "# Initialize a python list\n",
    "let py_list_str: PythonObject = [\"a\", \"b\", \"c\", \"d\", \"e\"]\n",
    "\n",
    "# Use for loop\n",
    "for i in range(py.len(py_list_str)):\n",
    "    # Print the iterator\n",
    "    print(py_list_str[i])"
   ]
  },
  {
   "cell_type": "markdown",
   "metadata": {},
   "source": [
    "#### **Traverse Tuples**"
   ]
  },
  {
   "cell_type": "code",
   "execution_count": 38,
   "metadata": {},
   "outputs": [
    {
     "name": "stdout",
     "output_type": "stream",
     "text": [
      "a\n",
      "b\n",
      "c\n",
      "d\n",
      "e\n"
     ]
    }
   ],
   "source": [
    "\n",
    "# Initialize a python tuple\n",
    "let py_tuple_str: PythonObject = (\"a\", \"b\", \"c\", \"d\", \"e\")\n",
    "\n",
    "# Use for loop\n",
    "for i in py_tuple_str:\n",
    "    # Print the iterator\n",
    "    print(i)\n"
   ]
  },
  {
   "cell_type": "code",
   "execution_count": 39,
   "metadata": {},
   "outputs": [
    {
     "name": "stdout",
     "output_type": "stream",
     "text": [
      "a\n",
      "b\n",
      "c\n",
      "d\n",
      "e\n"
     ]
    }
   ],
   "source": [
    "# Initialize a python tuple\n",
    "let py_tuple_str: PythonObject = (\"a\", \"b\", \"c\", \"d\", \"e\")\n",
    "\n",
    "# Use for loop\n",
    "for i in range(py.len(py_tuple_str)):\n",
    "    # Print the iterator\n",
    "    print(py_tuple_str[i])"
   ]
  },
  {
   "cell_type": "markdown",
   "metadata": {},
   "source": [
    "### **Functions**"
   ]
  },
  {
   "cell_type": "markdown",
   "metadata": {},
   "source": [
    "#### **Normal Functions**\n",
    "**By default the arguments are immutable**"
   ]
  },
  {
   "cell_type": "code",
   "execution_count": 40,
   "metadata": {},
   "outputs": [],
   "source": [
    "# Function to add two numbers\n",
    "fn add(a: Int8, b: Int8) -> Int8:\n",
    "    # Return the sum\n",
    "    return a + b\n",
    "\n",
    "# Function to subtract two numbers\n",
    "fn sub(a: Int8, b: Int8) -> Int8:\n",
    "    # Return the difference\n",
    "    return a - b\n",
    "\n",
    "# Function to multiply two numbers\n",
    "fn mul(a: Int8, b: Int8) -> Int8:\n",
    "    # Return the product\n",
    "    return a * b\n",
    "\n",
    "# Function to divide two numbers\n",
    "fn div(a: Int8, b: Int8) -> Int8:\n",
    "    # Return the quotient\n",
    "    return a / b"
   ]
  },
  {
   "cell_type": "code",
   "execution_count": 41,
   "metadata": {},
   "outputs": [],
   "source": [
    "# Intialize variables\n",
    "let x: Int8 = 5\n",
    "let y: Int8 = 10"
   ]
  },
  {
   "cell_type": "code",
   "execution_count": 42,
   "metadata": {},
   "outputs": [
    {
     "name": "stdout",
     "output_type": "stream",
     "text": [
      "15\n"
     ]
    }
   ],
   "source": [
    "# Call the function\n",
    "let sum: Int8 = add(x, y)\n",
    "\n",
    "# Print the sum\n",
    "print(sum)"
   ]
  },
  {
   "cell_type": "code",
   "execution_count": 43,
   "metadata": {},
   "outputs": [
    {
     "name": "stdout",
     "output_type": "stream",
     "text": [
      "-5\n"
     ]
    }
   ],
   "source": [
    "# Call the function\n",
    "let diff: Int8 = sub(x, y)\n",
    "\n",
    "# Print the diff\n",
    "print(diff)"
   ]
  },
  {
   "cell_type": "code",
   "execution_count": 44,
   "metadata": {},
   "outputs": [
    {
     "name": "stdout",
     "output_type": "stream",
     "text": [
      "50\n"
     ]
    }
   ],
   "source": [
    "# Call the function\n",
    "let prod: Int8 = mul(x, y)\n",
    "\n",
    "# Print the prod\n",
    "print(prod)"
   ]
  },
  {
   "cell_type": "code",
   "execution_count": 45,
   "metadata": {},
   "outputs": [
    {
     "name": "stdout",
     "output_type": "stream",
     "text": [
      "0\n"
     ]
    }
   ],
   "source": [
    "# Call the function\n",
    "let quot: Int8 = div(x, y)\n",
    "\n",
    "# Print the quot\n",
    "print(quot)"
   ]
  },
  {
   "cell_type": "markdown",
   "metadata": {},
   "source": [
    "#### **Function with `inout` parameters**\n",
    "**Variable values updated inside the function will reflected in main code**"
   ]
  },
  {
   "cell_type": "code",
   "execution_count": 46,
   "metadata": {},
   "outputs": [
    {
     "name": "stdout",
     "output_type": "stream",
     "text": [
      "Variables before update:  5 10\n",
      "Variables after update:  15 10 15\n"
     ]
    }
   ],
   "source": [
    "# Function to update numbers\n",
    "fn update(inout a: Int8, inout b: Int8) -> Int8:\n",
    "    # Update the value of a\n",
    "    a = a + b\n",
    "\n",
    "    # Return the updated value of a\n",
    "    return a\n",
    "\n",
    "# Initialize the variables\n",
    "var x: Int8 = 5\n",
    "var y: Int8 = 10\n",
    "\n",
    "# Print the variables before update\n",
    "print(\"Variables before update: \", x, y)\n",
    "\n",
    "# Call the function\n",
    "let sum: Int8 = update(x, y)\n",
    "\n",
    "# Print the variables after update\n",
    "print(\"Variables after update: \", x, y, sum)"
   ]
  },
  {
   "cell_type": "markdown",
   "metadata": {},
   "source": [
    "#### **Function with `borrowed` parameters**\n",
    "**Explicitly sets the arguments to immutable**"
   ]
  },
  {
   "cell_type": "code",
   "execution_count": 47,
   "metadata": {},
   "outputs": [
    {
     "name": "stdout",
     "output_type": "stream",
     "text": [
      "Variables before update:  5 10\n",
      "Variables after update:  5 10 15\n"
     ]
    }
   ],
   "source": [
    "# Function to update numbers\n",
    "fn update(borrowed a: Int8, borrowed b: Int8) -> Int8:\n",
    "    # Return the updated value of a\n",
    "    return a + b\n",
    "\n",
    "# Initialize the variables\n",
    "var x: Int8 = 5\n",
    "var y: Int8 = 10\n",
    "\n",
    "# Print the variables before update\n",
    "print(\"Variables before update: \", x, y)\n",
    "\n",
    "# Call the function\n",
    "let sum: Int8 = update(x, y)\n",
    "\n",
    "# Print the variables after update\n",
    "print(\"Variables after update: \", x, y, sum)"
   ]
  },
  {
   "cell_type": "code",
   "execution_count": 48,
   "metadata": {},
   "outputs": [
    {
     "name": "stderr",
     "output_type": "stream",
     "text": [
      "error: \u001b[0;1;31m\u001b[1mExpression [48]:4:5: \u001b[0m\u001b[1mexpression must be mutable in assignment\n",
      "\u001b[0m    a = a + b\n",
      "\u001b[0;1;32m    ^\n",
      "\u001b[0m\u001b[0m\n",
      "expression failed to parse (no further compiler diagnostics)"
     ]
    }
   ],
   "source": [
    "# Function to update numbers\n",
    "fn update(borrowed a: Int8, borrowed b: Int8) -> Int8:\n",
    "    # Update the value of a -> Value is not updated\n",
    "    a = a + b\n",
    "\n",
    "    # Return the updated value of a\n",
    "    return a\n",
    "\n",
    "# Initialize the variables\n",
    "var x: Int8 = 5\n",
    "var y: Int8 = 10\n",
    "\n",
    "# Print the variables before update\n",
    "print(\"Variables before update: \", x, y)\n",
    "\n",
    "# Call the function\n",
    "let sum: Int8 = update(x, y)\n",
    "\n",
    "# Print the variables after update\n",
    "print(\"Variables after update: \", x, y)"
   ]
  },
  {
   "cell_type": "markdown",
   "metadata": {},
   "source": [
    "#### **Function with `owned` arguments**\n",
    "**Function gains the ownership of the arguments and immutable objects can be modified within function**\n",
    "\n",
    "**But the changes made to the objects do on reflect in main code**"
   ]
  },
  {
   "cell_type": "code",
   "execution_count": 49,
   "metadata": {},
   "outputs": [
    {
     "name": "stdout",
     "output_type": "stream",
     "text": [
      "Variables before update:  5 10\n",
      "Variables after update:  5 10 15\n"
     ]
    }
   ],
   "source": [
    "# Function to update numbers\n",
    "fn update(owned a: Int8, owned b: Int8) -> Int8:\n",
    "    # Update the value of a\n",
    "    a = a + b\n",
    "\n",
    "    # Return the updated value of a\n",
    "    return a\n",
    "\n",
    "# Initialize the variables\n",
    "let x: Int8 = 5\n",
    "let y: Int8 = 10\n",
    "\n",
    "# Print the variables before update\n",
    "print(\"Variables before update: \", x, y)\n",
    "\n",
    "# Call the function\n",
    "let sum: Int8 = update(x, y)\n",
    "\n",
    "# Print the variables after update\n",
    "print(\"Variables after update: \", x, y, sum)"
   ]
  },
  {
   "cell_type": "markdown",
   "metadata": {},
   "source": [
    "### **Object Oriented Programming**"
   ]
  },
  {
   "cell_type": "code",
   "execution_count": 50,
   "metadata": {},
   "outputs": [],
   "source": [
    "# Create a class representing Banana\n",
    "struct Banana:\n",
    "    # Intitialize the member variables with datatypes\n",
    "    var Rype: Bool\n",
    "    var Length: Float32\n",
    "    var Color: String\n",
    "\n",
    "    # Constructor\n",
    "    fn __init__(inout self, rype: Bool, length: Float32, color: String):\n",
    "        # Initialize the member variables\n",
    "        self.Rype = rype\n",
    "        self.Length = length\n",
    "        self.Color = color\n",
    "\n",
    "    # Method for rype\n",
    "    fn rype(self) -> Bool:\n",
    "        # Return the rype\n",
    "        return self.Rype\n",
    "\n",
    "    # Method for length\n",
    "    fn length(self) -> Float32:\n",
    "        # Return the length\n",
    "        return self.Length\n",
    "\n",
    "    # Method for color\n",
    "    fn color(self) -> String:\n",
    "        # Return the color\n",
    "        return self.Color"
   ]
  },
  {
   "cell_type": "code",
   "execution_count": 51,
   "metadata": {},
   "outputs": [
    {
     "name": "stdout",
     "output_type": "stream",
     "text": [
      "Accessing Member Variables:\n",
      "True\n",
      "5.5\n",
      "Yellow\n",
      "\n",
      "Accessing Member Methods:\n",
      "True\n",
      "5.5\n",
      "Yellow\n"
     ]
    }
   ],
   "source": [
    "# Create an instance of Banana\n",
    "var banana = Banana(True, 5.5, \"Yellow\")\n",
    "\n",
    "# Print the member variables\n",
    "print(\"Accessing Member Variables:\")\n",
    "print(banana.Rype)\n",
    "print(banana.Length)\n",
    "print(banana.Color)\n",
    "\n",
    "# Call the member methods\n",
    "print(\"\\nAccessing Member Methods:\")\n",
    "print(banana.rype())\n",
    "print(banana.length())\n",
    "print(banana.color())"
   ]
  },
  {
   "cell_type": "code",
   "execution_count": 52,
   "metadata": {},
   "outputs": [
    {
     "name": "stdout",
     "output_type": "stream",
     "text": [
      "Accessing Member Variables:\n",
      "False\n",
      "6.5\n",
      "Green\n",
      "\n",
      "Accessing Member Methods:\n",
      "False\n",
      "6.5\n",
      "Green\n"
     ]
    }
   ],
   "source": [
    "# Update member variables\n",
    "banana.Rype = False\n",
    "banana.Length = 6.5\n",
    "banana.Color = \"Green\"\n",
    "\n",
    "# Print the member variables\n",
    "print(\"Accessing Member Variables:\")\n",
    "print(banana.Rype)\n",
    "print(banana.Length)\n",
    "print(banana.Color)\n",
    "\n",
    "# Call the member methods\n",
    "print(\"\\nAccessing Member Methods:\")\n",
    "print(banana.rype())\n",
    "print(banana.length())\n",
    "print(banana.color())"
   ]
  },
  {
   "cell_type": "markdown",
   "metadata": {},
   "source": [
    "### **Python Packages**"
   ]
  },
  {
   "cell_type": "code",
   "execution_count": 53,
   "metadata": {},
   "outputs": [
    {
     "name": "stdout",
     "output_type": "stream",
     "text": [
      "Error: No module named 'numpy'\n"
     ]
    }
   ],
   "source": [
    "# Import numpy \n",
    "let np = Python.import_module(\"numpy\")\n",
    "\n",
    "# Create a numpy array\n",
    "let np_arr = np.array([1, 2, 3, 4, 5])\n",
    "\n",
    "# Print the array\n",
    "print(np_arr)\n",
    "\n",
    "# Update the array\n",
    "np_arr *= 2\n",
    "\n",
    "# Print the array\n",
    "print(np_arr)"
   ]
  },
  {
   "cell_type": "markdown",
   "metadata": {},
   "source": [
    "### **Error Handling**"
   ]
  },
  {
   "cell_type": "code",
   "execution_count": 54,
   "metadata": {},
   "outputs": [
    {
     "name": "stdout",
     "output_type": "stream",
     "text": [
      "You entered: 100\n",
      "Goodbye\n"
     ]
    }
   ],
   "source": [
    "# Initialize the num\n",
    "let num:String = \"100\"\n",
    "\n",
    "# Try\n",
    "try:\n",
    "    # Convert the number to integer\n",
    "    let int_num = py.int(num)\n",
    "\n",
    "    # Print the number\n",
    "    print(\"You entered:\", int_num)\n",
    "\n",
    "# Except\n",
    "except:\n",
    "    # Print error\n",
    "    print(\"Invalid input\")\n",
    "\n",
    "# Finally\n",
    "finally:\n",
    "    # Print goodbye\n",
    "    print(\"Goodbye\")"
   ]
  },
  {
   "cell_type": "code",
   "execution_count": 55,
   "metadata": {},
   "outputs": [
    {
     "name": "stdout",
     "output_type": "stream",
     "text": [
      "Invalid input\n",
      "Goodbye\n"
     ]
    }
   ],
   "source": [
    "# Initialize the num\n",
    "let num:String = \"abc\"\n",
    "\n",
    "# Try\n",
    "try:\n",
    "    # Convert the number to integer\n",
    "    let int_num = py.int(num)\n",
    "\n",
    "    # Print the number\n",
    "    print(\"You entered:\", int_num)\n",
    "\n",
    "# Except\n",
    "except:\n",
    "    # Print error\n",
    "    print(\"Invalid input\")\n",
    "\n",
    "# Finally\n",
    "finally:\n",
    "    # Print goodbye\n",
    "    print(\"Goodbye\")"
   ]
  },
  {
   "cell_type": "markdown",
   "metadata": {},
   "source": [
    "### **SIMD DataType**"
   ]
  },
  {
   "cell_type": "markdown",
   "metadata": {},
   "source": [
    "#### **Initialize SIMD Array**"
   ]
  },
  {
   "cell_type": "code",
   "execution_count": 65,
   "metadata": {},
   "outputs": [
    {
     "name": "stdout",
     "output_type": "stream",
     "text": [
      "[1.0, 4.0, 9.0, 16.0]\n",
      "4\n"
     ]
    }
   ],
   "source": [
    "# Initialize a SIMD variable\n",
    "let x = SIMD[DType.float16, 4](1, 4, 9, 16)\n",
    "\n",
    "# Print the variable\n",
    "print(x)\n",
    "\n",
    "# Print the length of the variable\n",
    "print(len(x))"
   ]
  },
  {
   "cell_type": "code",
   "execution_count": 66,
   "metadata": {},
   "outputs": [
    {
     "name": "stdout",
     "output_type": "stream",
     "text": [
      "[1.0, 4.0, 9.0, 16.0]\n",
      "4\n"
     ]
    }
   ],
   "source": [
    "# Try initializing a SIMD variable with more elements than the specified\n",
    "let x = SIMD[DType.float16, 4](1, 4, 9, 16, 25)\n",
    "\n",
    "# Print the variable\n",
    "print(x)\n",
    "\n",
    "# Print the length of the variable\n",
    "print(len(x))"
   ]
  },
  {
   "cell_type": "markdown",
   "metadata": {},
   "source": [
    "#### **SIMD as Argument**"
   ]
  },
  {
   "cell_type": "code",
   "execution_count": 70,
   "metadata": {},
   "outputs": [
    {
     "name": "stdout",
     "output_type": "stream",
     "text": [
      "[2.0, 8.0, 18.0, 32.0]\n",
      "[0.0, 0.0, 0.0, 0.0]\n",
      "[1.0, 16.0, 81.0, 256.0]\n",
      "[1.0, 1.0, 1.0, 1.0]\n"
     ]
    }
   ],
   "source": [
    "# Function to add 2 SIMD arrays\n",
    "fn add[datatype: DType, length: Int](a: SIMD[datatype, length], b: SIMD[datatype, length]) -> SIMD[datatype, length]:\n",
    "    # Return the sum\n",
    "    return a + b\n",
    "\n",
    "# Function to sub 2 SIMD arrays\n",
    "fn sub[datatype: DType, length: Int](a: SIMD[datatype, length], b: SIMD[datatype, length]) -> SIMD[datatype, length]:\n",
    "    # Return the diff\n",
    "    return a - b\n",
    "\n",
    "# Function to mul 2 SIMD arrays\n",
    "fn mul[datatype: DType, length: Int](a: SIMD[datatype, length], b: SIMD[datatype, length]) -> SIMD[datatype, length]:\n",
    "    # Return the prod\n",
    "    return a * b\n",
    "\n",
    "# Function to div 2 SIMD arrays\n",
    "fn div[datatype: DType, length: Int](a: SIMD[datatype, length], b: SIMD[datatype, length]) -> SIMD[datatype, length]:\n",
    "    # Return the quot\n",
    "    return a / b\n",
    "\n",
    "# Initialize a SIMD array\n",
    "let x = SIMD[DType.float16, 4](1, 4, 9, 16)\n",
    "\n",
    "# Call and print the function\n",
    "print(add(x, x))\n",
    "print(sub(x, x))\n",
    "print(mul(x, x))\n",
    "print(div(x, x))"
   ]
  }
 ],
 "metadata": {
  "kernelspec": {
   "display_name": "Mojo",
   "language": "mojo",
   "name": "mojo-jupyter-kernel"
  },
  "language_info": {
   "codemirror_mode": {
    "name": "mojo"
   },
   "file_extension": ".mojo",
   "mimetype": "text/x-mojo",
   "name": "mojo"
  }
 },
 "nbformat": 4,
 "nbformat_minor": 4
}
